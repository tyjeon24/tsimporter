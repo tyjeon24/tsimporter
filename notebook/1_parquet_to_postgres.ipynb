{
 "cells": [
  {
   "cell_type": "code",
   "execution_count": 1,
   "metadata": {},
   "outputs": [],
   "source": [
    "import sys\n",
    "\n",
    "sys.path.append(\"../src\")"
   ]
  },
  {
   "cell_type": "code",
   "execution_count": 2,
   "metadata": {},
   "outputs": [],
   "source": [
    "import datetime\n",
    "import random\n",
    "\n",
    "import pandas as pd\n",
    "\n",
    "from tsimporter import ParquetImporter"
   ]
  },
  {
   "cell_type": "code",
   "execution_count": 3,
   "metadata": {},
   "outputs": [],
   "source": [
    "# 1. Prepare sample dataset.\n",
    "\n",
    "number_of_data = 3000\n",
    "df = pd.DataFrame()\n",
    "df[\"time\"] = pd.date_range(\"2021-01-01\", periods=number_of_data, freq=datetime.timedelta(hours=1))\n",
    "df[\"data1\"] = [random.random() for _ in range(number_of_data)]\n",
    "df[\"label\"] = [True if random.random() > 0.5 else False for _ in range(number_of_data)]\n",
    "\n",
    "\n",
    "df.iloc[:1000].to_parquet(\"data1.parquet\")\n",
    "df.iloc[1000:2000].to_parquet(\"data2.parquet\")\n",
    "df.iloc[2000:].to_parquet(\"data3.parquet\")"
   ]
  },
  {
   "cell_type": "code",
   "execution_count": 4,
   "metadata": {},
   "outputs": [
    {
     "name": "stderr",
     "output_type": "stream",
     "text": [
      "2024-11-02 16:03:50,170 - INFO - Connection to host.docker.internal:5432 established successfully.\n"
     ]
    }
   ],
   "source": [
    "# 2. Make an importer instance.\n",
    "\n",
    "column_mappings = [\n",
    "    {\"source\": \"time\", \"target\": \"time\", \"dtype\": \"TIMESTAMP\", \"primary_key\": True},\n",
    "    {\"source\": \"data1\", \"target\": \"v1\", \"dtype\": \"FLOAT\"},\n",
    "    {\"source\": \"label\", \"target\": \"flag\", \"dtype\": \"BOOL\"},\n",
    "]\n",
    "importer = ParquetImporter(\n",
    "    dbname=\"your_dbname\",\n",
    "    user=\"your_user\",\n",
    "    password=\"your_password\",\n",
    "    host=\"host.docker.internal\",\n",
    "    port=5432,\n",
    "    table_name=\"my_table\",\n",
    "    column_mappings=column_mappings,\n",
    ")"
   ]
  },
  {
   "cell_type": "code",
   "execution_count": 5,
   "metadata": {},
   "outputs": [
    {
     "name": "stderr",
     "output_type": "stream",
     "text": [
      "2024-11-02 16:03:50,198 - INFO - Connection to host.docker.internal:5432 established successfully.\n",
      "2024-11-02 16:03:50,393 - INFO - data1.parquet was imported to postgres successfully.\n",
      "2024-11-02 16:03:50,425 - INFO - data2.parquet was imported to postgres successfully.\n",
      "2024-11-02 16:03:50,457 - INFO - data3.parquet was imported to postgres successfully.\n",
      "2024-11-02 16:03:50,462 - INFO - Data importing succeeded, total data now: 3000.\n"
     ]
    }
   ],
   "source": [
    "# 3. Call import_files method.\n",
    "\n",
    "importer.import_files([\"data1.parquet\", \"data2.parquet\", \"data3.parquet\"])"
   ]
  },
  {
   "cell_type": "code",
   "execution_count": 6,
   "metadata": {},
   "outputs": [],
   "source": [
    "# 4. Cleanup.\n",
    "\n",
    "from pathlib import Path\n",
    "\n",
    "importer.close_connection()\n",
    "Path(\"data1.parquet\").unlink()\n",
    "Path(\"data2.parquet\").unlink()\n",
    "Path(\"data3.parquet\").unlink()"
   ]
  }
 ],
 "metadata": {
  "kernelspec": {
   "display_name": ".venv",
   "language": "python",
   "name": "python3"
  },
  "language_info": {
   "codemirror_mode": {
    "name": "ipython",
    "version": 3
   },
   "file_extension": ".py",
   "mimetype": "text/x-python",
   "name": "python",
   "nbconvert_exporter": "python",
   "pygments_lexer": "ipython3",
   "version": "3.10.15"
  }
 },
 "nbformat": 4,
 "nbformat_minor": 2
}
